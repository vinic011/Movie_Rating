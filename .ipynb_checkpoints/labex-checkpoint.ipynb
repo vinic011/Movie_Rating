{
 "cells": [
  {
   "cell_type": "markdown",
   "id": "32069248",
   "metadata": {},
   "source": [
    "# Lab. Exame\n",
    "## CMC-13 Introdução à ciência de dados\n",
    "Aluno: *Vinícius José de Menezes Pereira*"
   ]
  },
  {
   "cell_type": "markdown",
   "id": "43e1634d",
   "metadata": {},
   "source": [
    "## Preparação de dados"
   ]
  },
  {
   "cell_type": "code",
   "execution_count": 152,
   "id": "2f75cccf",
   "metadata": {},
   "outputs": [],
   "source": [
    "import pandas as pd\n",
    "import numpy as np"
   ]
  },
  {
   "cell_type": "code",
   "execution_count": 153,
   "id": "e450a12a",
   "metadata": {},
   "outputs": [
    {
     "name": "stderr",
     "output_type": "stream",
     "text": [
      "C:\\Users\\vinic\\AppData\\Local\\Temp\\ipykernel_6784\\1522366626.py:1: FutureWarning: The error_bad_lines argument has been deprecated and will be removed in a future version. Use on_bad_lines in the future.\n",
      "\n",
      "\n",
      "  train =  pd.read_csv('exame_cmc13_dados_treinamento.csv', encoding='utf-8', sep=\";\", error_bad_lines=False)\n",
      "C:\\Users\\vinic\\AppData\\Local\\Temp\\ipykernel_6784\\1522366626.py:2: FutureWarning: The error_bad_lines argument has been deprecated and will be removed in a future version. Use on_bad_lines in the future.\n",
      "\n",
      "\n",
      "  test =  pd.read_csv('exame_cmc13_dados_teste.csv', encoding='utf-8', sep=\";\", error_bad_lines=False)\n"
     ]
    }
   ],
   "source": [
    "train =  pd.read_csv('exame_cmc13_dados_treinamento.csv', encoding='utf-8', sep=\";\", error_bad_lines=False) \n",
    "test =  pd.read_csv('exame_cmc13_dados_teste.csv', encoding='utf-8', sep=\";\", error_bad_lines=False)"
   ]
  },
  {
   "cell_type": "markdown",
   "id": "03922187",
   "metadata": {},
   "source": [
    "*Data preparation*:\n",
    "- first and second columns: wrong and useless (drop).\n",
    "- user_id: ok, but I want to generalize data (drop).\n",
    "- age: ok (discretization).\n",
    "- isbn: ok.\n",
    "- rating: ok.\n",
    "- book_title: ok but redundant(drop).\n",
    "- book_author: ok.\n",
    "- year_of_publication: ok.\n",
    "- publisher: ok.\n",
    "- img_l: ok.\n",
    "- Language: en and 9 likely NA.\n",
    "- Category: ok and 9 is likely NA.\n",
    "- city: Redundant and with NA (drop).\n",
    "- state: best choice for local, for it's more general than city. With NA.\n",
    "- country: many NA, redundant e hard to deal with (drop)."
   ]
  },
  {
   "cell_type": "code",
   "execution_count": 154,
   "id": "aeb883a3",
   "metadata": {},
   "outputs": [],
   "source": [
    "# columns 'Unnamed:0,1' and 'Unnamed:0' are useless\n",
    "train = train.drop(['Unnamed: 0.1','Unnamed: 0','user_id','book_title','country','city'],axis = 1)\n",
    "test = test.drop(['Unnamed: 0.1','Unnamed: 0'],axis = 1)"
   ]
  },
  {
   "cell_type": "code",
   "execution_count": 155,
   "id": "0fe5e2a2",
   "metadata": {},
   "outputs": [
    {
     "data": {
      "text/plain": [
       "age                       0\n",
       "isbn                      0\n",
       "rating                    0\n",
       "book_author               0\n",
       "year_of_publication       0\n",
       "publisher                 0\n",
       "img_l                     0\n",
       "Language                  0\n",
       "Category                  0\n",
       "city                    949\n",
       "state                  2016\n",
       "country                4564\n",
       "dtype: int64"
      ]
     },
     "execution_count": 155,
     "metadata": {},
     "output_type": "execute_result"
    }
   ],
   "source": [
    "train.isna().sum()"
   ]
  },
  {
   "cell_type": "code",
   "execution_count": 156,
   "id": "3067c15e",
   "metadata": {},
   "outputs": [
    {
     "name": "stderr",
     "output_type": "stream",
     "text": [
      "C:\\Users\\vinic\\AppData\\Local\\Temp\\ipykernel_6784\\1917410203.py:4: SettingWithCopyWarning: \n",
      "A value is trying to be set on a copy of a slice from a DataFrame\n",
      "\n",
      "See the caveats in the documentation: https://pandas.pydata.org/pandas-docs/stable/user_guide/indexing.html#returning-a-view-versus-a-copy\n",
      "  data['age'].loc[data['age'] < 18] = 1\n",
      "C:\\Users\\vinic\\AppData\\Local\\Temp\\ipykernel_6784\\1917410203.py:5: SettingWithCopyWarning: \n",
      "A value is trying to be set on a copy of a slice from a DataFrame\n",
      "\n",
      "See the caveats in the documentation: https://pandas.pydata.org/pandas-docs/stable/user_guide/indexing.html#returning-a-view-versus-a-copy\n",
      "  data['age'].loc[(data['age'] > 17) & (data['age'] < 24)] = 18\n",
      "C:\\Users\\vinic\\AppData\\Local\\Temp\\ipykernel_6784\\1917410203.py:6: SettingWithCopyWarning: \n",
      "A value is trying to be set on a copy of a slice from a DataFrame\n",
      "\n",
      "See the caveats in the documentation: https://pandas.pydata.org/pandas-docs/stable/user_guide/indexing.html#returning-a-view-versus-a-copy\n",
      "  data['age'].loc[(data['age'] > 23) & (data['age'] < 30)] = 24\n",
      "C:\\Users\\vinic\\AppData\\Local\\Temp\\ipykernel_6784\\1917410203.py:7: SettingWithCopyWarning: \n",
      "A value is trying to be set on a copy of a slice from a DataFrame\n",
      "\n",
      "See the caveats in the documentation: https://pandas.pydata.org/pandas-docs/stable/user_guide/indexing.html#returning-a-view-versus-a-copy\n",
      "  data['age'].loc[(data['age'] > 29) & (data['age'] < 38)] = 30\n",
      "C:\\Users\\vinic\\AppData\\Local\\Temp\\ipykernel_6784\\1917410203.py:8: SettingWithCopyWarning: \n",
      "A value is trying to be set on a copy of a slice from a DataFrame\n",
      "\n",
      "See the caveats in the documentation: https://pandas.pydata.org/pandas-docs/stable/user_guide/indexing.html#returning-a-view-versus-a-copy\n",
      "  data['age'].loc[(data['age'] > 37) & (data['age'] < 46)] = 40\n",
      "C:\\Users\\vinic\\AppData\\Local\\Temp\\ipykernel_6784\\1917410203.py:9: SettingWithCopyWarning: \n",
      "A value is trying to be set on a copy of a slice from a DataFrame\n",
      "\n",
      "See the caveats in the documentation: https://pandas.pydata.org/pandas-docs/stable/user_guide/indexing.html#returning-a-view-versus-a-copy\n",
      "  data['age'].loc[(data['age'] > 45) & (data['age'] < 60)] = 50\n",
      "C:\\Users\\vinic\\AppData\\Local\\Temp\\ipykernel_6784\\1917410203.py:10: SettingWithCopyWarning: \n",
      "A value is trying to be set on a copy of a slice from a DataFrame\n",
      "\n",
      "See the caveats in the documentation: https://pandas.pydata.org/pandas-docs/stable/user_guide/indexing.html#returning-a-view-versus-a-copy\n",
      "  data['age'].loc[(data['age'] > 59)] = 60\n"
     ]
    }
   ],
   "source": [
    "# age discretization\n",
    "for data in [train,test]:\n",
    "    data['age'] = data['age'].round()\n",
    "    data['age'].loc[data['age'] < 18] = 1\n",
    "    data['age'].loc[(data['age'] > 17) & (data['age'] < 24)] = 18\n",
    "    data['age'].loc[(data['age'] > 23) & (data['age'] < 30)] = 24\n",
    "    data['age'].loc[(data['age'] > 29) & (data['age'] < 38)] = 30\n",
    "    data['age'].loc[(data['age'] > 37) & (data['age'] < 46)] = 40\n",
    "    data['age'].loc[(data['age'] > 45) & (data['age'] < 60)] = 50\n",
    "    data['age'].loc[(data['age'] > 59)] = 60"
   ]
  },
  {
   "cell_type": "code",
   "execution_count": 157,
   "id": "832512af",
   "metadata": {},
   "outputs": [
    {
     "data": {
      "text/html": [
       "<div>\n",
       "<style scoped>\n",
       "    .dataframe tbody tr th:only-of-type {\n",
       "        vertical-align: middle;\n",
       "    }\n",
       "\n",
       "    .dataframe tbody tr th {\n",
       "        vertical-align: top;\n",
       "    }\n",
       "\n",
       "    .dataframe thead th {\n",
       "        text-align: right;\n",
       "    }\n",
       "</style>\n",
       "<table border=\"1\" class=\"dataframe\">\n",
       "  <thead>\n",
       "    <tr style=\"text-align: right;\">\n",
       "      <th></th>\n",
       "      <th>user_id</th>\n",
       "      <th>age</th>\n",
       "      <th>isbn</th>\n",
       "      <th>rating</th>\n",
       "      <th>book_title</th>\n",
       "      <th>book_author</th>\n",
       "      <th>year_of_publication</th>\n",
       "      <th>publisher</th>\n",
       "      <th>img_l</th>\n",
       "      <th>Language</th>\n",
       "      <th>Category</th>\n",
       "      <th>city</th>\n",
       "      <th>state</th>\n",
       "      <th>country</th>\n",
       "    </tr>\n",
       "  </thead>\n",
       "  <tbody>\n",
       "    <tr>\n",
       "      <th>0</th>\n",
       "      <td>170947</td>\n",
       "      <td>30.0</td>\n",
       "      <td>0312305060</td>\n",
       "      <td>3</td>\n",
       "      <td>The Hours: A Novel</td>\n",
       "      <td>Michael Cunningham</td>\n",
       "      <td>2002.0</td>\n",
       "      <td>Picador</td>\n",
       "      <td>http://images.amazon.com/images/P/0312305060.0...</td>\n",
       "      <td>en</td>\n",
       "      <td>['Fiction']</td>\n",
       "      <td>sheldon</td>\n",
       "      <td>iowa</td>\n",
       "      <td>usa</td>\n",
       "    </tr>\n",
       "    <tr>\n",
       "      <th>1</th>\n",
       "      <td>25981</td>\n",
       "      <td>30.0</td>\n",
       "      <td>0312980140</td>\n",
       "      <td>10</td>\n",
       "      <td>Seven Up (A Stephanie Plum Novel)</td>\n",
       "      <td>Janet Evanovich</td>\n",
       "      <td>2002.0</td>\n",
       "      <td>St. Martin's Paperbacks</td>\n",
       "      <td>http://images.amazon.com/images/P/0312980140.0...</td>\n",
       "      <td>9</td>\n",
       "      <td>9</td>\n",
       "      <td>nj</td>\n",
       "      <td>new jersey</td>\n",
       "      <td>usa</td>\n",
       "    </tr>\n",
       "    <tr>\n",
       "      <th>2</th>\n",
       "      <td>177432</td>\n",
       "      <td>30.0</td>\n",
       "      <td>0449212602</td>\n",
       "      <td>10</td>\n",
       "      <td>The Handmaid's Tale</td>\n",
       "      <td>Margaret Atwood</td>\n",
       "      <td>1989.0</td>\n",
       "      <td>Fawcett Books</td>\n",
       "      <td>http://images.amazon.com/images/P/0449212602.0...</td>\n",
       "      <td>en</td>\n",
       "      <td>['British and Irish fiction (Fictional works b...</td>\n",
       "      <td>wichita</td>\n",
       "      <td>kansas</td>\n",
       "      <td>usa</td>\n",
       "    </tr>\n",
       "    <tr>\n",
       "      <th>3</th>\n",
       "      <td>83337</td>\n",
       "      <td>30.0</td>\n",
       "      <td>0446605239</td>\n",
       "      <td>8</td>\n",
       "      <td>The Notebook</td>\n",
       "      <td>Nicholas Sparks</td>\n",
       "      <td>1998.0</td>\n",
       "      <td>Warner Books</td>\n",
       "      <td>http://images.amazon.com/images/P/0446605239.0...</td>\n",
       "      <td>9</td>\n",
       "      <td>9</td>\n",
       "      <td>artesia</td>\n",
       "      <td>new mexico</td>\n",
       "      <td>usa</td>\n",
       "    </tr>\n",
       "    <tr>\n",
       "      <th>4</th>\n",
       "      <td>153662</td>\n",
       "      <td>40.0</td>\n",
       "      <td>0446607657</td>\n",
       "      <td>0</td>\n",
       "      <td>When the Wind Blows</td>\n",
       "      <td>James Patterson</td>\n",
       "      <td>1999.0</td>\n",
       "      <td>Warner Vision</td>\n",
       "      <td>http://images.amazon.com/images/P/0446607657.0...</td>\n",
       "      <td>en</td>\n",
       "      <td>['Fiction']</td>\n",
       "      <td>ft. stewart</td>\n",
       "      <td>georgia</td>\n",
       "      <td>usa</td>\n",
       "    </tr>\n",
       "  </tbody>\n",
       "</table>\n",
       "</div>"
      ],
      "text/plain": [
       "   user_id   age        isbn  rating                         book_title  \\\n",
       "0   170947  30.0  0312305060       3                 The Hours: A Novel   \n",
       "1    25981  30.0  0312980140      10  Seven Up (A Stephanie Plum Novel)   \n",
       "2   177432  30.0  0449212602      10                The Handmaid's Tale   \n",
       "3    83337  30.0  0446605239       8                       The Notebook   \n",
       "4   153662  40.0  0446607657       0                When the Wind Blows   \n",
       "\n",
       "          book_author  year_of_publication                publisher  \\\n",
       "0  Michael Cunningham               2002.0                  Picador   \n",
       "1     Janet Evanovich               2002.0  St. Martin's Paperbacks   \n",
       "2     Margaret Atwood               1989.0            Fawcett Books   \n",
       "3     Nicholas Sparks               1998.0             Warner Books   \n",
       "4     James Patterson               1999.0            Warner Vision   \n",
       "\n",
       "                                               img_l Language  \\\n",
       "0  http://images.amazon.com/images/P/0312305060.0...       en   \n",
       "1  http://images.amazon.com/images/P/0312980140.0...        9   \n",
       "2  http://images.amazon.com/images/P/0449212602.0...       en   \n",
       "3  http://images.amazon.com/images/P/0446605239.0...        9   \n",
       "4  http://images.amazon.com/images/P/0446607657.0...       en   \n",
       "\n",
       "                                            Category         city       state  \\\n",
       "0                                        ['Fiction']      sheldon        iowa   \n",
       "1                                                  9           nj  new jersey   \n",
       "2  ['British and Irish fiction (Fictional works b...      wichita      kansas   \n",
       "3                                                  9      artesia  new mexico   \n",
       "4                                        ['Fiction']  ft. stewart     georgia   \n",
       "\n",
       "  country  \n",
       "0     usa  \n",
       "1     usa  \n",
       "2     usa  \n",
       "3     usa  \n",
       "4     usa  "
      ]
     },
     "execution_count": 157,
     "metadata": {},
     "output_type": "execute_result"
    }
   ],
   "source": [
    "test.head()"
   ]
  },
  {
   "cell_type": "code",
   "execution_count": 158,
   "id": "8ea60be4",
   "metadata": {},
   "outputs": [
    {
     "data": {
      "text/plain": [
       "(131179, 12)"
      ]
     },
     "execution_count": 158,
     "metadata": {},
     "output_type": "execute_result"
    }
   ],
   "source": [
    "train.shape"
   ]
  },
  {
   "cell_type": "markdown",
   "id": "02f6215d",
   "metadata": {},
   "source": [
    "## Modelo baseado em redes neurais do tipo MLP"
   ]
  },
  {
   "cell_type": "code",
   "execution_count": null,
   "id": "5e435b74",
   "metadata": {},
   "outputs": [],
   "source": []
  },
  {
   "cell_type": "code",
   "execution_count": null,
   "id": "f824b579",
   "metadata": {},
   "outputs": [],
   "source": []
  },
  {
   "cell_type": "markdown",
   "id": "314a734f",
   "metadata": {},
   "source": [
    "## Modelo baseado em árvores de decisão ou Random Forests"
   ]
  },
  {
   "cell_type": "code",
   "execution_count": null,
   "id": "cdc3fab1",
   "metadata": {},
   "outputs": [],
   "source": []
  },
  {
   "cell_type": "code",
   "execution_count": null,
   "id": "b1c6cbac",
   "metadata": {},
   "outputs": [],
   "source": []
  },
  {
   "cell_type": "markdown",
   "id": "0f06af1e",
   "metadata": {},
   "source": [
    "## Análise comparativa do desempenho dos modelos"
   ]
  },
  {
   "cell_type": "code",
   "execution_count": null,
   "id": "d7e618cc",
   "metadata": {},
   "outputs": [],
   "source": []
  },
  {
   "cell_type": "code",
   "execution_count": null,
   "id": "8b8208e7",
   "metadata": {},
   "outputs": [],
   "source": []
  }
 ],
 "metadata": {
  "kernelspec": {
   "display_name": "Python 3 (ipykernel)",
   "language": "python",
   "name": "python3"
  },
  "language_info": {
   "codemirror_mode": {
    "name": "ipython",
    "version": 3
   },
   "file_extension": ".py",
   "mimetype": "text/x-python",
   "name": "python",
   "nbconvert_exporter": "python",
   "pygments_lexer": "ipython3",
   "version": "3.9.7"
  }
 },
 "nbformat": 4,
 "nbformat_minor": 5
}

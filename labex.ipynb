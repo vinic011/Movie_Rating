{
 "cells": [
  {
   "cell_type": "markdown",
   "id": "f310e29d",
   "metadata": {},
   "source": [
    "# Lab. Exame\n",
    "## CMC-13 Introdução à ciência de dados\n",
    "Grupo:\n",
    "\n",
    "        Felipe Sato\n",
    "\n",
    "        Lucas Dias\n",
    "\n",
    "        Valério Augusto\n",
    "        \n",
    "        Vinícius José de Menezes Pereira"
   ]
  },
  {
   "cell_type": "markdown",
   "id": "adc4ad20",
   "metadata": {},
   "source": [
    "## Preparação de dados"
   ]
  },
  {
   "cell_type": "code",
   "execution_count": 145,
   "id": "b451c260",
   "metadata": {},
   "outputs": [],
   "source": [
    "import pandas as pd\n",
    "import numpy as np\n",
    "import matplotlib.pyplot as plt"
   ]
  },
  {
   "cell_type": "code",
   "execution_count": 146,
   "id": "bba4c6ea",
   "metadata": {},
   "outputs": [],
   "source": [
    "train =  pd.read_csv('exame_cmc13_dados_treinamento.csv', sep=\";\") \n",
    "test =  pd.read_csv('exame_cmc13_dados_teste.csv', sep=\";\")"
   ]
  },
  {
   "cell_type": "markdown",
   "id": "575c9df5",
   "metadata": {},
   "source": [
    "*Data preparation*:\n",
    "- first and second columns: wrong and useless (drop).\n",
    "- user_id: ok, but I want to generalize the model (drop).\n",
    "- age: ok (discretization).\n",
    "- isbn: ok.\n",
    "- rating: ok.\n",
    "- book_title: ok but redundant, We just have isbn (drop).\n",
    "- book_author: ok. \n",
    "- year_of_publication: ok. \n",
    "- publisher: ok. \n",
    "- img_l: ok, but it's redundant (isbn) and doesn't sees to be a importante feature (drop).\n",
    "- Language: en and 9 likely as NA. Not enouth information, EN and 9 are nothing for learning. (drop)\n",
    "- Category: ok and 9 is likely as NA. (Fixed)\n",
    "- city: Redundant, We just have state for location, and with NA (drop).\n",
    "- state: best choice for local, for it's more general than city. With NA. (Fixed)\n",
    "- country: many NA, redundant, for We just have state for location, and hard to deal with (drop).\n",
    "\n",
    "*Neural network*: just accepsts as inputs numerical inputs. Enconding with normalization solves this\n",
    "\n",
    "*Split*: ok\n",
    "\n",
    "*Some exploration*: \n",
    "- Most users are teenagers or young adults\n",
    "- 'rating' is maybe disbalanced. Most values are shorter then 2\n",
    "- 'Category' is disbalanced. Most categories are fiction or 9, which we supose to be missings values.\n"
   ]
  },
  {
   "cell_type": "code",
   "execution_count": 147,
   "id": "d5a2a292",
   "metadata": {},
   "outputs": [],
   "source": [
    "#define a city dict to fill na values\n",
    "from collections import defaultdict\n",
    "city_state = defaultdict(lambda: -1)\n",
    "for key,line in train.loc[:,['city','state']].iterrows():\n",
    "    if city_state[line.city] == -1:\n",
    "        city_state[line.city] = line.state\n",
    "    elif city_state[line.city] != line.state:\n",
    "        city_state[line.city] = 1\n",
    "\n",
    "for dataset in [train,test]:\n",
    "    dataset.loc[:,'state'] = dataset.loc[:,'state'].replace(',',np.NAN)"
   ]
  },
  {
   "cell_type": "code",
   "execution_count": 148,
   "id": "c4a15e14",
   "metadata": {},
   "outputs": [],
   "source": [
    "for dataset in [train,test]:\n",
    "    for key,line in dataset.fillna(101).iterrows():\n",
    "        if line.state == 101 and line.city != 101:\n",
    "            if city_state[line.city] != -1 and city_state[line.city] != 1:\n",
    "                dataset.loc[key,'state'] = city_state[line.city] "
   ]
  },
  {
   "cell_type": "code",
   "execution_count": 149,
   "id": "7b82a22a",
   "metadata": {},
   "outputs": [],
   "source": [
    "# columns 'Unnamed:0,1' and 'Unnamed:0' are useless\n",
    "test.drop(['Unnamed: 0.1','Unnamed: 0','user_id','book_title','country','city','img_l','Language'],axis = 1, inplace = True)\n",
    "train.drop(['Unnamed: 0.1','Unnamed: 0','user_id','book_title','country','city','img_l','Language'],axis = 1, inplace = True)\n",
    "\n",
    "#drop na rows\n",
    "for dataset in [train,test]:\n",
    "    dataset.dropna(axis = 0,inplace = True)"
   ]
  },
  {
   "cell_type": "code",
   "execution_count": 150,
   "id": "8f3c5155",
   "metadata": {},
   "outputs": [],
   "source": [
    "# age discretization\n",
    "def age_discretization(x):\n",
    "    if x < 18: return 1\n",
    "    elif x < 24: return 18\n",
    "    elif x < 30: return 24\n",
    "    elif x < 38: return 30\n",
    "    elif x < 46: return 40\n",
    "    elif x < 60: return 50\n",
    "    else: return 60\n",
    "\n",
    "train.loc[:,'age'] = train.loc[:,'age'].map(age_discretization)\n",
    "test.loc[:,'age'] = test.loc[:,'age'].map(age_discretization)"
   ]
  },
  {
   "cell_type": "code",
   "execution_count": 151,
   "id": "7058b5c4",
   "metadata": {},
   "outputs": [],
   "source": [
    "# removing '*',',','_'\n",
    "train = train.sort_values('state')\n",
    "test = test.sort_values('state')\n",
    "train = train.iloc[306:]\n",
    "test = test.iloc[65:]"
   ]
  },
  {
   "cell_type": "code",
   "execution_count": 152,
   "id": "97e416e0",
   "metadata": {},
   "outputs": [],
   "source": [
    "# removing ' ',',','-' and '.' inside the strings\n",
    "train['state'] = train['state'].astype(str)\n",
    "def replace_(s):\n",
    "    s = s.replace('-','')\n",
    "    s = s.replace(' ','')\n",
    "    s = s.replace(',','')\n",
    "    s = s.replace('.','')\n",
    "    return s\n",
    "train.loc[:,'state'] = train.loc[:,'state'].map(replace_)\n",
    "test.loc[:,'state'] = test.loc[:,'state'].map(replace_)"
   ]
  },
  {
   "cell_type": "code",
   "execution_count": 153,
   "id": "bb0b1840",
   "metadata": {},
   "outputs": [],
   "source": [
    "def remove_test_lines(train,test):\n",
    "    for s in test['state'].unique():\n",
    "        t = train['state'].unique()\n",
    "        if s not in t:\n",
    "            test = test.loc[test['state']!=s]\n",
    "    return test\n",
    "test = remove_test_lines(train,test)"
   ]
  },
  {
   "cell_type": "code",
   "execution_count": 154,
   "id": "40b365f7",
   "metadata": {},
   "outputs": [],
   "source": [
    "#normalizing year of publication\n",
    "for dataset in [train,test]:\n",
    "    dataset['year_of_publication'] = dataset['year_of_publication'] - dataset['year_of_publication'].min()"
   ]
  },
  {
   "cell_type": "code",
   "execution_count": 155,
   "id": "1a22f82b",
   "metadata": {},
   "outputs": [],
   "source": [
    "# Enconding\n",
    "from sklearn.preprocessing import LabelEncoder\n",
    "\n",
    "isbn_encoder = LabelEncoder()\n",
    "isbn_encoder.fit(train.loc[:,'isbn'])\n",
    "train.loc[:,'isbn'] = isbn_encoder.transform(train.loc[:,'isbn']) \n",
    "test.loc[:,'isbn'] = isbn_encoder.transform(test.loc[:,'isbn'])\n",
    "\n",
    "book_author_encoder = LabelEncoder()\n",
    "book_author_encoder.fit(train.loc[:,'book_author'])\n",
    "train.loc[:,'book_author'] = book_author_encoder.transform(train.loc[:,'book_author']) \n",
    "test.loc[:,'book_author'] = book_author_encoder.transform(test.loc[:,'book_author'])\n",
    "\n",
    "publisher_encoder = LabelEncoder()\n",
    "publisher_encoder.fit(train.loc[:,'publisher'])\n",
    "train.loc[:,'publisher'] = publisher_encoder.transform(train.loc[:,'publisher']) \n",
    "test.loc[:,'publisher'] = publisher_encoder.transform(test.loc[:,'publisher'])\n",
    "\n",
    "category_encoder = LabelEncoder()\n",
    "category_encoder.fit(train.loc[:,'Category'])\n",
    "train.loc[:,'Category'] = category_encoder.transform(train.loc[:,'Category']) \n",
    "test.loc[:,'Category'] = category_encoder.transform(test.loc[:,'Category'])\n",
    "\n",
    "state_encoder = LabelEncoder()\n",
    "state_encoder.fit(train.loc[:,'state'])\n",
    "train.loc[:,'state'] = state_encoder.transform(train.loc[:,'state']) \n",
    "test.loc[:,'state'] = state_encoder.transform(test.loc[:,'state'])"
   ]
  },
  {
   "cell_type": "code",
   "execution_count": 156,
   "id": "41686e95",
   "metadata": {},
   "outputs": [],
   "source": [
    "# \n",
    "test.loc[:,'year_of_publication'] = test.loc[:,'year_of_publication'].map(lambda x: int(x[:4]) if type(x) == str else int(x))\n",
    "test.loc[:,'year_of_publication'] = test.loc[:,'year_of_publication'].map(lambda x: int(x[:4]) if type(x) == str else int(x))"
   ]
  },
  {
   "cell_type": "code",
   "execution_count": 157,
   "id": "e4b08e53",
   "metadata": {},
   "outputs": [],
   "source": [
    "# resenting indices\n",
    "train = train.reset_index()\n",
    "train = train.drop('index',axis = 1)\n",
    "test = test.reset_index()\n",
    "test = test.drop('index',axis = 1)"
   ]
  },
  {
   "cell_type": "code",
   "execution_count": 158,
   "id": "e5723b86",
   "metadata": {},
   "outputs": [],
   "source": [
    "# # normalization of 'isbn','book_author','publisher','category' and 'state'\n",
    "# for feature in train.columns:\n",
    "#     test[feature] = test[feature]/train[feature].max()\n",
    "#     train[feature] = train[feature]/train[feature].max()"
   ]
  },
  {
   "cell_type": "code",
   "execution_count": 159,
   "id": "892377c3",
   "metadata": {},
   "outputs": [],
   "source": [
    "# split\n",
    "Y_train = train['rating']\n",
    "X_train = train.drop('rating',axis = 1)\n",
    "Y_test = test['rating']\n",
    "X_test = test.drop('rating',axis = 1)"
   ]
  },
  {
   "cell_type": "markdown",
   "id": "9283324f",
   "metadata": {},
   "source": [
    "##  Exploration"
   ]
  },
  {
   "cell_type": "code",
   "execution_count": 160,
   "id": "0d32742b",
   "metadata": {},
   "outputs": [
    {
     "data": {
      "text/plain": [
       "32.74064577397911"
      ]
     },
     "execution_count": 160,
     "metadata": {},
     "output_type": "execute_result"
    },
    {
     "data": {
      "image/png": "[encoded data removed]",
      "text/plain": [
       "<Figure size 432x288 with 1 Axes>"
      ]
     },
     "metadata": {
      "needs_background": "light"
     },
     "output_type": "display_data"
    }
   ],
   "source": [
    "train['age'].hist()\n",
    "train['age'].mean()"
   ]
  },
  {
   "cell_type": "code",
   "execution_count": 161,
   "id": "bfc34e5e",
   "metadata": {},
   "outputs": [
    {
     "data": {
      "text/plain": [
       "3.16488603988604"
      ]
     },
     "execution_count": 161,
     "metadata": {},
     "output_type": "execute_result"
    },
    {
     "data": {
      "image/png": "[encoded data removed]",
      "text/plain": [
       "<Figure size 432x288 with 1 Axes>"
      ]
     },
     "metadata": {
      "needs_background": "light"
     },
     "output_type": "display_data"
    }
   ],
   "source": [
    "train['rating'].hist()\n",
    "train['rating'].mean()"
   ]
  },
  {
   "cell_type": "code",
   "execution_count": 162,
   "id": "194287b6",
   "metadata": {},
   "outputs": [
    {
     "data": {
      "text/plain": [
       "<AxesSubplot:>"
      ]
     },
     "execution_count": 162,
     "metadata": {},
     "output_type": "execute_result"
    },
    {
     "data": {
      "image/png": "[encoded data removed]",
      "text/plain": [
       "<Figure size 432x288 with 1 Axes>"
      ]
     },
     "metadata": {
      "needs_background": "light"
     },
     "output_type": "display_data"
    }
   ],
   "source": [
    "train['Category'].hist()"
   ]
  },
  {
   "cell_type": "code",
   "execution_count": 163,
   "id": "e810f80b",
   "metadata": {},
   "outputs": [
    {
     "data": {
      "text/plain": [
       "{'whiskers': [<matplotlib.lines.Line2D at 0x2631e11c670>,\n",
       "  <matplotlib.lines.Line2D at 0x2631e11c940>,\n",
       "  <matplotlib.lines.Line2D at 0x2631e11fa60>,\n",
       "  <matplotlib.lines.Line2D at 0x2631e11fd30>,\n",
       "  <matplotlib.lines.Line2D at 0x2631e12fe50>,\n",
       "  <matplotlib.lines.Line2D at 0x2631e0cc160>,\n",
       "  <matplotlib.lines.Line2D at 0x2631e0d8280>,\n",
       "  <matplotlib.lines.Line2D at 0x2631e0d8550>,\n",
       "  <matplotlib.lines.Line2D at 0x2631e0e2670>,\n",
       "  <matplotlib.lines.Line2D at 0x2631e0e2940>,\n",
       "  <matplotlib.lines.Line2D at 0x2631e0d6a60>,\n",
       "  <matplotlib.lines.Line2D at 0x2631e0d6d30>,\n",
       "  <matplotlib.lines.Line2D at 0x2631e0f6e50>,\n",
       "  <matplotlib.lines.Line2D at 0x2631e0ed160>,\n",
       "  <matplotlib.lines.Line2D at 0x2631e2ad280>,\n",
       "  <matplotlib.lines.Line2D at 0x2631e2ad550>],\n",
       " 'caps': [<matplotlib.lines.Line2D at 0x2631e11cc10>,\n",
       "  <matplotlib.lines.Line2D at 0x2631e11cee0>,\n",
       "  <matplotlib.lines.Line2D at 0x2631e12f040>,\n",
       "  <matplotlib.lines.Line2D at 0x2631e12f310>,\n",
       "  <matplotlib.lines.Line2D at 0x2631e0cc430>,\n",
       "  <matplotlib.lines.Line2D at 0x2631e0cc700>,\n",
       "  <matplotlib.lines.Line2D at 0x2631e0d8820>,\n",
       "  <matplotlib.lines.Line2D at 0x2631e0d8af0>,\n",
       "  <matplotlib.lines.Line2D at 0x2631e0e2c10>,\n",
       "  <matplotlib.lines.Line2D at 0x2631e0e2ee0>,\n",
       "  <matplotlib.lines.Line2D at 0x2631e0f6040>,\n",
       "  <matplotlib.lines.Line2D at 0x2631e0f6310>,\n",
       "  <matplotlib.lines.Line2D at 0x2631e0ed430>,\n",
       "  <matplotlib.lines.Line2D at 0x2631e0ed700>,\n",
       "  <matplotlib.lines.Line2D at 0x2631e2ad820>,\n",
       "  <matplotlib.lines.Line2D at 0x2631e2adaf0>],\n",
       " 'boxes': [<matplotlib.lines.Line2D at 0x2631e11c4c0>,\n",
       "  <matplotlib.lines.Line2D at 0x2631e11f790>,\n",
       "  <matplotlib.lines.Line2D at 0x2631e12fb80>,\n",
       "  <matplotlib.lines.Line2D at 0x2631e0ccf70>,\n",
       "  <matplotlib.lines.Line2D at 0x2631e0e23a0>,\n",
       "  <matplotlib.lines.Line2D at 0x2631e0d6790>,\n",
       "  <matplotlib.lines.Line2D at 0x2631e0f6b80>,\n",
       "  <matplotlib.lines.Line2D at 0x2631e0edf70>],\n",
       " 'medians': [<matplotlib.lines.Line2D at 0x2631e11f1f0>,\n",
       "  <matplotlib.lines.Line2D at 0x2631e12f5e0>,\n",
       "  <matplotlib.lines.Line2D at 0x2631e0cc9d0>,\n",
       "  <matplotlib.lines.Line2D at 0x2631e0d8dc0>,\n",
       "  <matplotlib.lines.Line2D at 0x2631e0d61f0>,\n",
       "  <matplotlib.lines.Line2D at 0x2631e0f65e0>,\n",
       "  <matplotlib.lines.Line2D at 0x2631e0ed9d0>,\n",
       "  <matplotlib.lines.Line2D at 0x2631e2addc0>],\n",
       " 'fliers': [<matplotlib.lines.Line2D at 0x2631e11f4c0>,\n",
       "  <matplotlib.lines.Line2D at 0x2631e12f8b0>,\n",
       "  <matplotlib.lines.Line2D at 0x2631e0ccca0>,\n",
       "  <matplotlib.lines.Line2D at 0x2631e0e20d0>,\n",
       "  <matplotlib.lines.Line2D at 0x2631e0d64c0>,\n",
       "  <matplotlib.lines.Line2D at 0x2631e0f68b0>,\n",
       "  <matplotlib.lines.Line2D at 0x2631e0edca0>,\n",
       "  <matplotlib.lines.Line2D at 0x2631e2a10d0>],\n",
       " 'means': []}"
      ]
     },
     "execution_count": 163,
     "metadata": {},
     "output_type": "execute_result"
    },
    {
     "data": {
      "image/png": "[encoded data removed]",
      "text/plain": [
       "<Figure size 432x288 with 1 Axes>"
      ]
     },
     "metadata": {
      "needs_background": "light"
     },
     "output_type": "display_data"
    }
   ],
   "source": [
    "plt.boxplot(train)"
   ]
  },
  {
   "cell_type": "markdown",
   "id": "a996ada2",
   "metadata": {},
   "source": [
    "## Modelo baseado em árvores de decisão ou Random Forests"
   ]
  },
  {
   "cell_type": "code",
   "execution_count": 164,
   "id": "42d9390c",
   "metadata": {},
   "outputs": [],
   "source": [
    "y_train = Y_train.copy()\n",
    "x_train = X_train.copy()\n",
    "y_test = Y_test.copy()\n",
    "x_test = X_test.copy()"
   ]
  },
  {
   "cell_type": "code",
   "execution_count": 165,
   "id": "2c857092",
   "metadata": {},
   "outputs": [],
   "source": [
    "from sklearn.ensemble import RandomForestClassifier\n",
    "from sklearn.metrics import accuracy_score\n",
    "import math"
   ]
  },
  {
   "cell_type": "code",
   "execution_count": 168,
   "id": "58722a12",
   "metadata": {},
   "outputs": [
    {
     "name": "stdout",
     "output_type": "stream",
     "text": [
      "n_estimators: 1, chi_2: 966.11, acurracy: 0.42\n",
      "n_estimators: 2, chi_2: 936.33, acurracy: 0.47\n",
      "n_estimators: 3, chi_2: 952.37, acurracy: 0.45\n",
      "n_estimators: 4, chi_2: 946.64, acurracy: 0.46\n",
      "n_estimators: 5, chi_2: 947.94, acurracy: 0.46\n",
      "n_estimators: 6, chi_2: 949.52, acurracy: 0.46\n",
      "n_estimators: 7, chi_2: 950.43, acurracy: 0.46\n"
     ]
    }
   ],
   "source": [
    "for qtd_estimators in range(len(x_test.columns)):\n",
    "    model = RandomForestClassifier(n_estimators=qtd_estimators+1,criterion = 'gini')\n",
    "    model.fit(x_train,y_train)\n",
    "    y_pred = model.predict(x_test)\n",
    "    print(f'n_estimators: {qtd_estimators+1}, chi_2: {round(math.sqrt((y_pred - y_test).dot(y_pred - y_test)),2)}, acurracy: {round(accuracy_score(y_test,y_pred),2)}')"
   ]
  },
  {
   "cell_type": "code",
   "execution_count": 139,
   "id": "82bd9a5b",
   "metadata": {},
   "outputs": [
    {
     "name": "stdout",
     "output_type": "stream",
     "text": [
      "n_estimators: 500, chi_2: 947.35, acurracy: 0.47\n"
     ]
    }
   ],
   "source": [
    "#Vamos ver se com um numero mundo grande mudaria muito a acuracia\n",
    "model = RandomForestClassifier(n_estimators=500,criterion = 'gini')\n",
    "model.fit(x_train,y_train)\n",
    "y_pred = model.predict(x_test)\n",
    "print(f'n_estimators: {500}, chi_2: {round(math.sqrt((y_pred - y_test).dot(y_pred - y_test)),2)}, acurracy: {round(accuracy_score(y_test,y_pred),2)}')"
   ]
  },
  {
   "cell_type": "code",
   "execution_count": 166,
   "id": "9842f81f",
   "metadata": {},
   "outputs": [
    {
     "name": "stdout",
     "output_type": "stream",
     "text": [
      "n_estimators: 7, chi_2: 936.03, acurracy: 0.47\n",
      "kappa_score: 0.03,\n",
      "f1_score: [0.66841992 0.         0.         0.01454545 0.00934579 0.04473161\n",
      " 0.02433372 0.05943775 0.09707326 0.08459052 0.09093369]\n"
     ]
    }
   ],
   "source": [
    "#Acuracia igual, mas chi2 pior, então o melhor modelo é com duas árvores.\n",
    "#Vamos calcular alguns parametros para comparar com a rede neural\n",
    "from sklearn.metrics import cohen_kappa_score\n",
    "from sklearn.metrics import f1_score\n",
    "\n",
    "model = RandomForestClassifier(n_estimators=2,criterion = 'gini')\n",
    "model.fit(x_train,y_train)\n",
    "y_pred = model.predict(x_test)\n",
    "print(f'n_estimators: {qtd_estimators+1}, chi_2: {round(math.sqrt((y_pred - y_test).dot(y_pred - y_test)),2)}, acurracy: {round(accuracy_score(y_test,y_pred),2)}')\n",
    "print(f'kappa_score: {round(cohen_kappa_score(y_test, y_pred),2)},\\nf1_score: {f1_score(y_test, y_pred, average=None)}')"
   ]
  },
  {
   "cell_type": "markdown",
   "id": "ce8724f3",
   "metadata": {},
   "source": [
    "ate aqui ta tudo certo"
   ]
  },
  {
   "cell_type": "markdown",
   "id": "3dffa408",
   "metadata": {},
   "source": [
    "## Modelo baseado em redes neurais do tipo MLP"
   ]
  },
  {
   "cell_type": "code",
   "execution_count": 155,
   "id": "4baf8927",
   "metadata": {},
   "outputs": [],
   "source": [
    "y_train = Y_train.copy()\n",
    "x_train = X_train.copy()\n",
    "y_test = Y_test.copy()\n",
    "x_test = X_test.copy()"
   ]
  },
  {
   "cell_type": "code",
   "execution_count": 70,
   "id": "6eb8b26c",
   "metadata": {},
   "outputs": [],
   "source": [
    "from sklearn.neural_network import MLPClassifier\n",
    "nn = MLPClassifier(hidden_layer_sizes=(300,300,300,300,300,300,300,300,300,300), activation='relu', solver='adam', max_iter=500)"
   ]
  },
  {
   "cell_type": "code",
   "execution_count": 157,
   "id": "021627dd",
   "metadata": {},
   "outputs": [
    {
     "data": {
      "text/plain": [
       "MLPClassifier(hidden_layer_sizes=(300, 300, 300, 300, 300, 300, 300, 300, 300,\n",
       "                                  300),\n",
       "              max_iter=500)"
      ]
     },
     "execution_count": 157,
     "metadata": {},
     "output_type": "execute_result"
    }
   ],
   "source": [
    "nn.fit(x_train,y_train)"
   ]
  },
  {
   "cell_type": "code",
   "execution_count": 182,
   "id": "ebc79c8f",
   "metadata": {},
   "outputs": [],
   "source": [
    "y_pred = nn.predict(x_test)\n",
    "nn.score(x_test, y_test)"
   ]
  },
  {
   "cell_type": "code",
   "execution_count": 184,
   "id": "c1a963ef",
   "metadata": {},
   "outputs": [
    {
     "name": "stdout",
     "output_type": "stream",
     "text": [
      "[0.74519806 0.         0.         0.         0.         0.\n",
      " 0.         0.         0.         0.         0.03881188]\n"
     ]
    }
   ],
   "source": [
    "from sklearn.metrics import f1_score\n",
    "print(f1_score(y_test, y_pred, average=None))"
   ]
  },
  {
   "cell_type": "code",
   "execution_count": 185,
   "id": "5095519d",
   "metadata": {},
   "outputs": [
    {
     "name": "stdout",
     "output_type": "stream",
     "text": [
      "[0.9980253  0.         0.         0.         0.         0.\n",
      " 0.         0.         0.         0.         0.02027307]\n"
     ]
    }
   ],
   "source": [
    "from sklearn.metrics import recall_score\n",
    "print(recall_score(y_test, y_pred, average=None))"
   ]
  },
  {
   "cell_type": "code",
   "execution_count": 186,
   "id": "8e938766",
   "metadata": {},
   "outputs": [
    {
     "name": "stdout",
     "output_type": "stream",
     "text": [
      "[0.59457569 0.         0.         0.         0.         0.\n",
      " 0.         0.         0.         0.         0.4537037 ]\n"
     ]
    },
    {
     "name": "stderr",
     "output_type": "stream",
     "text": [
      "C:\\Users\\vinic\\anaconda3\\envs\\ct213\\lib\\site-packages\\sklearn\\metrics\\_classification.py:1318: UndefinedMetricWarning: Precision is ill-defined and being set to 0.0 in labels with no predicted samples. Use `zero_division` parameter to control this behavior.\n",
      "  _warn_prf(average, modifier, msg_start, len(result))\n"
     ]
    }
   ],
   "source": [
    "from sklearn.metrics import precision_score\n",
    "print(precision_score(y_test, y_pred, average=None))"
   ]
  },
  {
   "cell_type": "code",
   "execution_count": 181,
   "id": "76fc1132",
   "metadata": {},
   "outputs": [
    {
     "name": "stdout",
     "output_type": "stream",
     "text": [
      "[[74795     0     0     0     0     0     0     0     4     0   115]\n",
      " [  192     0     0     0     0     0     0     0     0     0     0]\n",
      " [  331     0     0     0     0     0     0     0     0     0     0]\n",
      " [  642     0     0     0     0     0     0     0     0     0     1]\n",
      " [  937     0     0     0     0     0     0     0     0     0     1]\n",
      " [ 4577     0     0     0     0     0     0     0     0     0     5]\n",
      " [ 3863     0     0     0     0     0     0     0     1     0     6]\n",
      " [ 8633     0     0     0     0     0     0     0     3     0    15]\n",
      " [13098     0     0     0     0     0     0     0     6     0    37]\n",
      " [ 9355     0     0     0     0     0     0     0     4     0    56]\n",
      " [ 9492     0     0     0     0     0     0     0     0     0   191]]\n"
     ]
    }
   ],
   "source": [
    "from sklearn.metrics import confusion_matrix\n",
    "print(confusion_matrix(y_train, y_pred))"
   ]
  },
  {
   "cell_type": "code",
   "execution_count": 187,
   "id": "293c10ed",
   "metadata": {},
   "outputs": [
    {
     "data": {
      "text/plain": [
       "0.005380801002342062"
      ]
     },
     "execution_count": 187,
     "metadata": {},
     "output_type": "execute_result"
    }
   ],
   "source": [
    "from sklearn.metrics import cohen_kappa_score\n",
    "cohen_kappa_score(y_test, y_pred)"
   ]
  }
 ],
 "metadata": {
  "kernelspec": {
   "display_name": "Python 3 (ipykernel)",
   "language": "python",
   "name": "python3"
  },
  "language_info": {
   "codemirror_mode": {
    "name": "ipython",
    "version": 3
   },
   "file_extension": ".py",
   "mimetype": "text/x-python",
   "name": "python",
   "nbconvert_exporter": "python",
   "pygments_lexer": "ipython3",
   "version": "3.9.13"
  },
  "vscode": {
   "interpreter": {
    "hash": "e18a54588f57dcd268c76b1ac9599ba726ef9a69574771016baee078d394e2a8"
   }
  }
 },
 "nbformat": 4,
 "nbformat_minor": 5
}
